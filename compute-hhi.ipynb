{
 "cells": [
  {
   "cell_type": "markdown",
   "id": "be5f343e",
   "metadata": {},
   "source": [
    "# HHI of Stargaze network"
   ]
  },
  {
   "cell_type": "code",
   "execution_count": 2,
   "id": "afc3509a",
   "metadata": {},
   "outputs": [],
   "source": [
    "import json\n",
    "from typing import List"
   ]
  },
  {
   "cell_type": "markdown",
   "id": "7ef244c2",
   "metadata": {},
   "source": [
    "Get the state of all validators."
   ]
  },
  {
   "cell_type": "code",
   "execution_count": 3,
   "id": "9a718ede",
   "metadata": {},
   "outputs": [],
   "source": [
    "!starsd query staking validators --node https://rpc.stargaze.ezstaking.io:443/ --output json > validators.json"
   ]
  },
  {
   "cell_type": "markdown",
   "id": "ed5ac42a",
   "metadata": {},
   "source": [
    "Get the delegation associated with each validator."
   ]
  },
  {
   "cell_type": "code",
   "execution_count": 6,
   "id": "ec5a40be",
   "metadata": {},
   "outputs": [],
   "source": [
    "validators = json.load(open('validators.json', 'r'))['validators']\n",
    "tokens = [int(v['tokens']) for v in validators]"
   ]
  },
  {
   "cell_type": "code",
   "execution_count": 7,
   "id": "ecb9a189",
   "metadata": {},
   "outputs": [],
   "source": [
    "def values_to_marketshares (values: List[int]) -> List[float]:\n",
    "    '''\n",
    "    Takes value of each firm and turns it into a proportion, i.e., \n",
    "    their share of the total market.\n",
    "    '''\n",
    "    total = sum(values)\n",
    "    return [v / total for v in values ]\n",
    "\n",
    "assert(values_to_marketshares([10, 10, 30]) == [0.2, 0.2, 0.6])"
   ]
  },
  {
   "cell_type": "code",
   "execution_count": 8,
   "id": "78a05ed8",
   "metadata": {},
   "outputs": [],
   "source": [
    "def hhi (marketshares: List[float]):\n",
    "    '''\n",
    "    \"The HHI is calculated by squaring the market share of each firm competing in the market \n",
    "    and then summing the resulting numbers.\"\n",
    "    \n",
    "    U.S. federal agencies \"generally consider markets in which the HHI is between \n",
    "    1,500 and 2,500 points to be moderately concentrated, and consider markets \n",
    "    in which the HHI is in excess of 2,500 points to be highly concentrated.\"\n",
    "    \n",
    "    From https://www.justice.gov/atr/herfindahl-hirschman-index\n",
    "    '''\n",
    "    squares = [(x*100)*(x*100) for x in marketshares]\n",
    "    return sum(squares)\n",
    "    \n",
    "assert(hhi([.30, .30, .20, .20]) == 2600)"
   ]
  },
  {
   "cell_type": "code",
   "execution_count": 9,
   "id": "ef54cda0",
   "metadata": {},
   "outputs": [
    {
     "data": {
      "text/plain": [
       "156.48671026391222"
      ]
     },
     "execution_count": 9,
     "metadata": {},
     "output_type": "execute_result"
    }
   ],
   "source": [
    "hhi(values_to_marketshares(tokens))"
   ]
  }
 ],
 "metadata": {
  "kernelspec": {
   "display_name": "Python 3 (ipykernel)",
   "language": "python",
   "name": "python3"
  },
  "language_info": {
   "codemirror_mode": {
    "name": "ipython",
    "version": 3
   },
   "file_extension": ".py",
   "mimetype": "text/x-python",
   "name": "python",
   "nbconvert_exporter": "python",
   "pygments_lexer": "ipython3",
   "version": "3.8.10"
  }
 },
 "nbformat": 4,
 "nbformat_minor": 5
}
