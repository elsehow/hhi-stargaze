{
 "cells": [
  {
   "cell_type": "markdown",
   "id": "3603ebf7",
   "metadata": {},
   "source": [
    "# HHI of Stargaze network\n",
    "\n",
    "Get the state of all validators."
   ]
  },
  {
   "cell_type": "code",
   "execution_count": 30,
   "id": "90cf33f1",
   "metadata": {},
   "outputs": [],
   "source": [
    "!starsd query staking validators --node https://rpc.stargaze.ezstaking.io:443/ --output json > validators.json"
   ]
  },
  {
   "cell_type": "markdown",
   "id": "33a45f38",
   "metadata": {},
   "source": [
    "Get the delegation associated with each validator."
   ]
  },
  {
   "cell_type": "code",
   "execution_count": 37,
   "id": "2f46f641",
   "metadata": {},
   "outputs": [
    {
     "data": {
      "text/plain": [
       "{'operator_address': 'starsvaloper1qz3zj0j3546xywfe8qwcve5flne9w98qu90048',\n",
       " 'consensus_pubkey': {'@type': '/cosmos.crypto.ed25519.PubKey',\n",
       "  'key': 'mRscRbPomJJDXnG9R6o/CwvVPvCWqISXPbFskv30p8o='},\n",
       " 'jailed': False,\n",
       " 'status': 'BOND_STATUS_BONDED',\n",
       " 'tokens': '2006079000000',\n",
       " 'delegator_shares': '2006079000000.000000000000000000',\n",
       " 'description': {'moniker': '0xSR | 0xSR.com',\n",
       "  'identity': 'E764DC957E82F233',\n",
       "  'website': 'https://0xSR.com',\n",
       "  'security_contact': 'sr@0xsr.com',\n",
       "  'details': 'You can reach me on my website, which is https://0xSR.com, all the time.'},\n",
       " 'unbonding_height': '0',\n",
       " 'unbonding_time': '1970-01-01T00:00:00Z',\n",
       " 'commission': {'commission_rates': {'rate': '0.050000000000000000',\n",
       "   'max_rate': '1.000000000000000000',\n",
       "   'max_change_rate': '0.990000000000000000'},\n",
       "  'update_time': '2021-11-01T09:41:32.057072748Z'},\n",
       " 'min_self_delegation': '1'}"
      ]
     },
     "execution_count": 37,
     "metadata": {},
     "output_type": "execute_result"
    }
   ],
   "source": [
    "import json\n",
    "validators = json.load(open('validators.json', 'r'))['validators']\n",
    "validators[0]\n",
    "# tokens = [int(v['tokens']) for v in validators]\n",
    "# tokens"
   ]
  },
  {
   "cell_type": "code",
   "execution_count": 32,
   "id": "12d0db33",
   "metadata": {},
   "outputs": [],
   "source": [
    "def values_to_marketshares (values: List[int]) -> List[float]:\n",
    "    '''\n",
    "    Takes value of each firm and turns it into a proportion, i.e., \n",
    "    their share of the total market.\n",
    "    '''\n",
    "    total = sum(values)\n",
    "    return [v / total for v in values ]\n",
    "\n",
    "assert(values_to_marketshares([10, 10, 30]) == [0.2, 0.2, 0.6])"
   ]
  },
  {
   "cell_type": "code",
   "execution_count": 33,
   "id": "a93d63c6",
   "metadata": {},
   "outputs": [],
   "source": [
    "from typing import List\n",
    "\n",
    "def hhi (marketshares: List[float]):\n",
    "    '''\n",
    "    \"The HHI is calculated by squaring the market share of each firm competing in the market \n",
    "    and then summing the resulting numbers.\"\n",
    "    \n",
    "    U.S. federal agencies \"generally consider markets in which the HHI is between \n",
    "    1,500 and 2,500 points to be moderately concentrated, and consider markets \n",
    "    in which the HHI is in excess of 2,500 points to be highly concentrated.\"\n",
    "    \n",
    "    From https://www.justice.gov/atr/herfindahl-hirschman-index\n",
    "    '''\n",
    "    squares = [(x*100)*(x*100) for x in marketshares]\n",
    "    return sum(squares)\n",
    "    \n",
    "assert(hhi([.30, .30, .20, .20]) == 2600)"
   ]
  },
  {
   "cell_type": "code",
   "execution_count": 34,
   "id": "2704a4f3",
   "metadata": {},
   "outputs": [
    {
     "data": {
      "text/plain": [
       "156.48663784255817"
      ]
     },
     "execution_count": 34,
     "metadata": {},
     "output_type": "execute_result"
    }
   ],
   "source": [
    "hhi(values_to_marketshares(tokens))"
   ]
  }
 ],
 "metadata": {
  "kernelspec": {
   "display_name": "Python 3 (ipykernel)",
   "language": "python",
   "name": "python3"
  },
  "language_info": {
   "codemirror_mode": {
    "name": "ipython",
    "version": 3
   },
   "file_extension": ".py",
   "mimetype": "text/x-python",
   "name": "python",
   "nbconvert_exporter": "python",
   "pygments_lexer": "ipython3",
   "version": "3.8.10"
  }
 },
 "nbformat": 4,
 "nbformat_minor": 5
}
